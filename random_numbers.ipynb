{
 "cells": [
  {
   "cell_type": "code",
   "execution_count": 1,
   "id": "a2a12fef",
   "metadata": {},
   "outputs": [],
   "source": [
    "# Import random module\n",
    "import random"
   ]
  },
  {
   "cell_type": "code",
   "execution_count": 6,
   "id": "7c88c604",
   "metadata": {},
   "outputs": [
    {
     "data": {
      "text/plain": [
       "-42"
      ]
     },
     "execution_count": 6,
     "metadata": {},
     "output_type": "execute_result"
    }
   ],
   "source": [
    "random.randint(-90,90)"
   ]
  },
  {
   "cell_type": "code",
   "execution_count": 4,
   "id": "0a295d94",
   "metadata": {},
   "outputs": [
    {
     "data": {
      "text/plain": [
       "0.5911153497270549"
      ]
     },
     "execution_count": 4,
     "metadata": {},
     "output_type": "execute_result"
    }
   ],
   "source": [
    "random.random()"
   ]
  },
  {
   "cell_type": "code",
   "execution_count": 7,
   "id": "071ea201",
   "metadata": {},
   "outputs": [
    {
     "data": {
      "text/plain": [
       "-15.976991676975958"
      ]
     },
     "execution_count": 7,
     "metadata": {},
     "output_type": "execute_result"
    }
   ],
   "source": [
    "random_number = random.randint(-90,90) + random.random()\n",
    "random_number"
   ]
  },
  {
   "cell_type": "code",
   "execution_count": 10,
   "id": "bd077d6c",
   "metadata": {},
   "outputs": [
    {
     "data": {
      "text/plain": [
       "[-54.46345676798427,\n",
       " 13.35160661350204,\n",
       " -11.923937035746052,\n",
       " 49.56236832399628,\n",
       " 82.2874755445738,\n",
       " 28.85742165477184,\n",
       " 19.29264185581294,\n",
       " -74.0045753295322,\n",
       " 38.40180984507539,\n",
       " 72.69096470611714]"
      ]
     },
     "execution_count": 10,
     "metadata": {},
     "output_type": "execute_result"
    }
   ],
   "source": [
    "x = 1\n",
    "latitudes = []\n",
    "while x < 11:\n",
    "    random_lat = random.randint(-90, 89) + random.random()\n",
    "    latitudes.append(random_lat)\n",
    "    x += 1\n",
    "latitudes"
   ]
  },
  {
   "cell_type": "code",
   "execution_count": 11,
   "id": "8388954f",
   "metadata": {},
   "outputs": [
    {
     "data": {
      "text/plain": [
       "-58"
      ]
     },
     "execution_count": 11,
     "metadata": {},
     "output_type": "execute_result"
    }
   ],
   "source": [
    "random.randrange(-90, 90, step=1)\n",
    "# The output is a number between -90 and 90, where the step is the difference between each number in the sequence."
   ]
  },
  {
   "cell_type": "code",
   "execution_count": 12,
   "id": "6436d5b8",
   "metadata": {},
   "outputs": [
    {
     "data": {
      "text/plain": [
       "69"
      ]
     },
     "execution_count": 12,
     "metadata": {},
     "output_type": "execute_result"
    }
   ],
   "source": [
    "random.randrange(-90, 90, step=3)\n",
    "# The output is a number between -90 and 90, where the difference between each number in the sequence is 3."
   ]
  },
  {
   "cell_type": "code",
   "execution_count": 13,
   "id": "b4dc296f",
   "metadata": {},
   "outputs": [],
   "source": [
    "# Import the NumPy module.\n",
    "import numpy as np"
   ]
  },
  {
   "cell_type": "code",
   "execution_count": 14,
   "id": "39c60bb6",
   "metadata": {},
   "outputs": [
    {
     "data": {
      "text/plain": [
       "25.647686269966428"
      ]
     },
     "execution_count": 14,
     "metadata": {},
     "output_type": "execute_result"
    }
   ],
   "source": [
    "np.random.uniform(-90.000, 90.000)"
   ]
  },
  {
   "cell_type": "code",
   "execution_count": 16,
   "id": "5651e943",
   "metadata": {},
   "outputs": [
    {
     "data": {
      "text/plain": [
       "19.13321278914883"
      ]
     },
     "execution_count": 16,
     "metadata": {},
     "output_type": "execute_result"
    }
   ],
   "source": [
    "np.random.uniform(low=-90, high=90)"
   ]
  },
  {
   "cell_type": "code",
   "execution_count": 19,
   "id": "d41c905a",
   "metadata": {},
   "outputs": [
    {
     "data": {
      "text/plain": [
       "array([ 82.32787788, -42.06356738,  82.80118419, -32.19337306,\n",
       "       -16.9995631 , -25.66194566, -75.13279969,  80.25414636,\n",
       "        84.80323661, -61.16140555,  36.50371191,  44.27557345,\n",
       "       -14.96300995,  68.31011153,  39.2973537 ,  85.17394879,\n",
       "        19.11133071,  77.73002444, -49.22674454, -10.25417966,\n",
       "        68.43225311, -88.95110701,  44.86248514,  78.76223955,\n",
       "        87.20425341,  -5.87967272,  -0.10081691,  32.12913605,\n",
       "       -87.57674986,  23.97759604,  10.86873948, -72.65234598,\n",
       "        -4.20357637,  12.6671263 ,  53.32660478, -16.09263176,\n",
       "       -38.65925898, -89.9496155 ,  57.06661605, -87.39864243,\n",
       "       -49.20406587, -89.47547998, -17.05313822,  76.85620464,\n",
       "       -37.82137121,  29.6025605 , -20.39129456,  -6.02576841,\n",
       "       -73.70183301,  19.88898729])"
      ]
     },
     "execution_count": 19,
     "metadata": {},
     "output_type": "execute_result"
    }
   ],
   "source": [
    "np.random.uniform(-90.000, 90.000, size=50)"
   ]
  },
  {
   "cell_type": "code",
   "execution_count": 20,
   "id": "126c319c",
   "metadata": {},
   "outputs": [],
   "source": [
    "# Import timeit.\n",
    "import timeit"
   ]
  },
  {
   "cell_type": "code",
   "execution_count": 22,
   "id": "57b68125",
   "metadata": {},
   "outputs": [
    {
     "name": "stdout",
     "output_type": "stream",
     "text": [
      "13.4 µs ± 409 ns per loop (mean ± std. dev. of 7 runs, 100000 loops each)\n"
     ]
    }
   ],
   "source": [
    "%timeit np.random.uniform(-90.000, 90.000, size=1500)"
   ]
  },
  {
   "cell_type": "code",
   "execution_count": 23,
   "id": "b72d6593",
   "metadata": {},
   "outputs": [
    {
     "name": "stdout",
     "output_type": "stream",
     "text": [
      "1.55 ms ± 39 µs per loop (mean ± std. dev. of 7 runs, 1000 loops each)\n"
     ]
    }
   ],
   "source": [
    "def latitudes(size):\n",
    "    latitudes = []\n",
    "    x = 0\n",
    "    while x < (size):\n",
    "        random_lat = random.randint(-90, 90) + random.random()\n",
    "        latitudes.append(random_lat)\n",
    "        x += 1\n",
    "    return latitudes\n",
    "# Call the function with 1500.\n",
    "%timeit latitudes(1500)"
   ]
  },
  {
   "cell_type": "code",
   "execution_count": null,
   "id": "8f4114b3",
   "metadata": {},
   "outputs": [],
   "source": []
  }
 ],
 "metadata": {
  "kernelspec": {
   "display_name": "PythonData",
   "language": "python",
   "name": "pythondata"
  },
  "language_info": {
   "codemirror_mode": {
    "name": "ipython",
    "version": 3
   },
   "file_extension": ".py",
   "mimetype": "text/x-python",
   "name": "python",
   "nbconvert_exporter": "python",
   "pygments_lexer": "ipython3",
   "version": "3.7.10"
  }
 },
 "nbformat": 4,
 "nbformat_minor": 5
}

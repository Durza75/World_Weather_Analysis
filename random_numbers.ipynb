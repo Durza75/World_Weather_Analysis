{
 "cells": [
  {
   "cell_type": "code",
   "execution_count": 1,
   "id": "a2a12fef",
   "metadata": {},
   "outputs": [],
   "source": [
    "# Import random module\n",
    "import random"
   ]
  },
  {
   "cell_type": "code",
   "execution_count": 2,
   "id": "7c88c604",
   "metadata": {},
   "outputs": [
    {
     "data": {
      "text/plain": [
       "83"
      ]
     },
     "execution_count": 2,
     "metadata": {},
     "output_type": "execute_result"
    }
   ],
   "source": [
    "random.randint(-90,90)"
   ]
  },
  {
   "cell_type": "code",
   "execution_count": 3,
   "id": "0a295d94",
   "metadata": {},
   "outputs": [
    {
     "data": {
      "text/plain": [
       "0.6112396196134884"
      ]
     },
     "execution_count": 3,
     "metadata": {},
     "output_type": "execute_result"
    }
   ],
   "source": [
    "random.random()"
   ]
  },
  {
   "cell_type": "code",
   "execution_count": 4,
   "id": "071ea201",
   "metadata": {},
   "outputs": [
    {
     "data": {
      "text/plain": [
       "-32.0856771492725"
      ]
     },
     "execution_count": 4,
     "metadata": {},
     "output_type": "execute_result"
    }
   ],
   "source": [
    "random_number = random.randint(-90,90) + random.random()\n",
    "random_number"
   ]
  },
  {
   "cell_type": "code",
   "execution_count": 5,
   "id": "bd077d6c",
   "metadata": {},
   "outputs": [
    {
     "data": {
      "text/plain": [
       "[-12.72186291667713,\n",
       " -18.852986534528416,\n",
       " -52.8208350745012,\n",
       " -13.089053324373356,\n",
       " -79.56799442046709,\n",
       " 32.430510230944805,\n",
       " -26.849450847561446,\n",
       " -25.756976845362153,\n",
       " -77.47047849286751,\n",
       " -14.569497685394907]"
      ]
     },
     "execution_count": 5,
     "metadata": {},
     "output_type": "execute_result"
    }
   ],
   "source": [
    "x = 1\n",
    "latitudes = []\n",
    "while x < 11:\n",
    "    random_lat = random.randint(-90, 89) + random.random()\n",
    "    latitudes.append(random_lat)\n",
    "    x += 1\n",
    "latitudes"
   ]
  },
  {
   "cell_type": "code",
   "execution_count": 6,
   "id": "8388954f",
   "metadata": {},
   "outputs": [
    {
     "data": {
      "text/plain": [
       "10"
      ]
     },
     "execution_count": 6,
     "metadata": {},
     "output_type": "execute_result"
    }
   ],
   "source": [
    "random.randrange(-90, 90, step=1)\n",
    "# The output is a number between -90 and 90, where the step is the difference between each number in the sequence."
   ]
  },
  {
   "cell_type": "code",
   "execution_count": 7,
   "id": "6436d5b8",
   "metadata": {},
   "outputs": [
    {
     "data": {
      "text/plain": [
       "9"
      ]
     },
     "execution_count": 7,
     "metadata": {},
     "output_type": "execute_result"
    }
   ],
   "source": [
    "random.randrange(-90, 90, step=3)\n",
    "# The output is a number between -90 and 90, where the difference between each number in the sequence is 3."
   ]
  },
  {
   "cell_type": "code",
   "execution_count": 8,
   "id": "b4dc296f",
   "metadata": {},
   "outputs": [],
   "source": [
    "# Import the NumPy module.\n",
    "import numpy as np"
   ]
  },
  {
   "cell_type": "code",
   "execution_count": 9,
   "id": "39c60bb6",
   "metadata": {},
   "outputs": [
    {
     "data": {
      "text/plain": [
       "41.588700299675224"
      ]
     },
     "execution_count": 9,
     "metadata": {},
     "output_type": "execute_result"
    }
   ],
   "source": [
    "np.random.uniform(-90.000, 90.000)"
   ]
  },
  {
   "cell_type": "code",
   "execution_count": 10,
   "id": "5651e943",
   "metadata": {},
   "outputs": [
    {
     "data": {
      "text/plain": [
       "78.74584203065007"
      ]
     },
     "execution_count": 10,
     "metadata": {},
     "output_type": "execute_result"
    }
   ],
   "source": [
    "np.random.uniform(low=-90, high=90)"
   ]
  },
  {
   "cell_type": "code",
   "execution_count": 11,
   "id": "d41c905a",
   "metadata": {},
   "outputs": [
    {
     "data": {
      "text/plain": [
       "array([-5.86203873e+01,  6.41440834e+01,  7.59533738e+01,  3.91816468e+01,\n",
       "       -2.21386305e+01, -3.18736198e+01, -5.20357915e+01, -5.37705846e+01,\n",
       "        8.94657024e+01, -9.24127158e+00, -7.83470072e-02, -1.66237088e+01,\n",
       "       -7.93526074e+01,  4.08710197e+00, -7.74907873e+01,  6.58495467e+01,\n",
       "       -6.54962617e+01, -6.52770074e+01, -3.10073256e+00,  6.99682768e+01,\n",
       "       -7.82535566e+01, -7.89260115e+01,  4.87306076e+01, -7.40841223e+00,\n",
       "       -3.62966957e+01, -2.71922290e+01, -4.77235840e+01,  5.80455823e+01,\n",
       "        8.09682871e+00, -2.80700904e+01,  4.95617309e+01, -8.55740727e+01,\n",
       "       -2.02051457e+01, -4.25332304e+01, -3.96429693e+01, -1.85850664e+01,\n",
       "        8.07554010e+01,  8.75051089e+01,  1.50185263e+01, -5.62316129e+01,\n",
       "        1.58074015e+01, -4.52866624e+01,  8.44610351e+01, -7.20599429e+01,\n",
       "       -3.65818454e+01, -7.76245989e+00,  7.93879765e+01,  9.40620281e+00,\n",
       "       -4.74936747e+01,  7.56109996e+01])"
      ]
     },
     "execution_count": 11,
     "metadata": {},
     "output_type": "execute_result"
    }
   ],
   "source": [
    "np.random.uniform(-90.000, 90.000, size=50)"
   ]
  },
  {
   "cell_type": "code",
   "execution_count": 12,
   "id": "126c319c",
   "metadata": {},
   "outputs": [],
   "source": [
    "# Import timeit.\n",
    "import timeit"
   ]
  },
  {
   "cell_type": "code",
   "execution_count": 13,
   "id": "57b68125",
   "metadata": {},
   "outputs": [
    {
     "name": "stdout",
     "output_type": "stream",
     "text": [
      "13.9 µs ± 281 ns per loop (mean ± std. dev. of 7 runs, 100000 loops each)\n"
     ]
    }
   ],
   "source": [
    "%timeit np.random.uniform(-90.000, 90.000, size=1500)"
   ]
  },
  {
   "cell_type": "code",
   "execution_count": 14,
   "id": "b72d6593",
   "metadata": {},
   "outputs": [
    {
     "name": "stdout",
     "output_type": "stream",
     "text": [
      "1.64 ms ± 55.2 µs per loop (mean ± std. dev. of 7 runs, 1000 loops each)\n"
     ]
    }
   ],
   "source": [
    "def latitudes(size):\n",
    "    latitudes = []\n",
    "    x = 0\n",
    "    while x < (size):\n",
    "        random_lat = random.randint(-90, 90) + random.random()\n",
    "        latitudes.append(random_lat)\n",
    "        x += 1\n",
    "    return latitudes\n",
    "# Call the function with 1500.\n",
    "%timeit latitudes(1500)"
   ]
  },
  {
   "cell_type": "code",
   "execution_count": null,
   "id": "8f4114b3",
   "metadata": {},
   "outputs": [],
   "source": []
  }
 ],
 "metadata": {
  "kernelspec": {
   "display_name": "PythonData",
   "language": "python",
   "name": "pythondata"
  },
  "language_info": {
   "codemirror_mode": {
    "name": "ipython",
    "version": 3
   },
   "file_extension": ".py",
   "mimetype": "text/x-python",
   "name": "python",
   "nbconvert_exporter": "python",
   "pygments_lexer": "ipython3",
   "version": "3.7.11"
  }
 },
 "nbformat": 4,
 "nbformat_minor": 5
}
